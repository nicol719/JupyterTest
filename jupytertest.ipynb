{
 "cells": [
  {
   "cell_type": "code",
   "execution_count": null,
   "metadata": {},
   "outputs": [],
   "source": [
    "print \"Hello World\""
   ]
  },
  {
   "cell_type": "code",
   "execution_count": 1,
   "metadata": {},
   "outputs": [],
   "source": [
    "import numpy as np"
   ]
  },
  {
   "cell_type": "markdown",
   "metadata": {},
   "source": [
    "https://towardsdatascience.com/getting-started-with-numpy-59b22df56729"
   ]
  },
  {
   "cell_type": "code",
   "execution_count": null,
   "metadata": {},
   "outputs": [],
   "source": [
    "#Creating 1D array\n",
    "a = np.array([1,2,3])\n",
    "\n",
    "#Creating 2D array\n",
    "b = np.array([[1,2,3],[4,5,6]])\n",
    "\n",
    "print a\n",
    "print b"
   ]
  },
  {
   "cell_type": "code",
   "execution_count": null,
   "metadata": {},
   "outputs": [],
   "source": [
    "a = np.zeros((2,2)) #Create an array of all zeros\n",
    "\n",
    "b = np.ones((1,2)) #Create an array of all ones\n",
    "\n",
    "pi = 3.14\n",
    "\n",
    "c = np.full((2,2),pi) #Create a constant array of pi\n",
    "\n",
    "d = np.eye(3) #Create a 3x3 identity matrix\n",
    "\n",
    "e = np.random.random((2,2)) #Create a random value matix\n",
    "\n",
    "print 'a: \\n', a, '\\n'\n",
    "print 'b: \\n', b, '\\n'\n",
    "print 'c: \\n', c, '\\n'\n",
    "print 'd: \\n', d, '\\n'\n",
    "print 'e: \\n', e, '\\n'"
   ]
  },
  {
   "cell_type": "code",
   "execution_count": 4,
   "metadata": {},
   "outputs": [
    {
     "name": "stdout",
     "output_type": "stream",
     "text": [
      "a: \n",
      "[ 0  5 10 15 20 25] \n",
      "\n",
      "b: \n",
      "[  1.   8.  15.] \n",
      "\n"
     ]
    }
   ],
   "source": [
    "#Create Sequences\n",
    "\n",
    "a = np.arange(0,30,5)\n",
    "\n",
    "b = np.linspace(1,15,3)\n",
    "\n",
    "print 'a: \\n', a, '\\n'\n",
    "print 'b: \\n', b, '\\n'"
   ]
  },
  {
   "cell_type": "code",
   "execution_count": null,
   "metadata": {},
   "outputs": [],
   "source": []
  }
 ],
 "metadata": {
  "kernelspec": {
   "display_name": "Python 2",
   "language": "python",
   "name": "python2"
  },
  "language_info": {
   "codemirror_mode": {
    "name": "ipython",
    "version": 2
   },
   "file_extension": ".py",
   "mimetype": "text/x-python",
   "name": "python",
   "nbconvert_exporter": "python",
   "pygments_lexer": "ipython2",
   "version": "2.7.17"
  }
 },
 "nbformat": 4,
 "nbformat_minor": 2
}
